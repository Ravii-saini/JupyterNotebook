{
 "cells": [
  {
   "cell_type": "markdown",
   "id": "cadf71f9",
   "metadata": {},
   "source": [
    "### EE-230 Assignment ( Topic- Freivald Algorithm)\n",
    "- **Name: Ravi Saini**\n",
    "- **Roll No: 210102069**"
   ]
  },
  {
   "cell_type": "markdown",
   "id": "f4943b1b",
   "metadata": {},
   "source": [
    "## Freivald Algorithm:\n",
    " The Freivalds algorithm is a randomized algorithm used to verify whether a matrix multiplication has been computed correctly or Not.We have Given three matrices $A$, $B$, and $C$, each of dimensions $n x n$,then the algorithm checks whether $AB$  is equal to $C$ or Not, where $A$, $B$, and $C$ are given matrices of integers."
   ]
  },
  {
   "cell_type": "markdown",
   "id": "f7c3a51c",
   "metadata": {},
   "source": [
    "### Algorithm works as follows:\n",
    " - Choose a random vector $r$ of $0$s and $1$s, of length n.\n",
    " - Compute the product $Br$ of the matrix $B$ with the random vector $r$.\n",
    " - Compute the product $ABr$ of the matrix $A$ with the vector $Br$.\n",
    " - Compute the product $Cr$ of the matrix C with the random vector $r$.\n",
    " - Check whether the product $ABr$ and $Cr$ is equal or Not."
   ]
  },
  {
   "cell_type": "markdown",
   "id": "7aa1425d",
   "metadata": {},
   "source": [
    "###### Error in algorithm:\n",
    "**The algorithm has a probability of error of $1/2$, meaning that if $AB ≠ C$, it correctly identifies the error with probability $1/2$.** However,**if AB = C, the algorithm always returns the correct answer.** The running time of the algorithm is $O(kn^2)$, where k is a constant factor that depends on the desired probability of error.\n",
    "\n",
    "###### Reduce error in Algorithm:\n",
    "To reduce the error of the Freivalds algorithm,we can run it multiple times and take the majority vote of the results. By running the algorithm multiple times, we can reduce the probability of error. For example,**if we run the algorithm k times, the probability of error becomes $2^{-k}$**. So, by increasing the number of times we run the algorithm, we can reduce the error probability to an arbitrarily small value."
   ]
  },
  {
   "cell_type": "markdown",
   "id": "84b57e3a",
   "metadata": {},
   "source": [
    "## Freivald Algorithm Python Code:\n",
    "- **take matrices size $n<=1000$ so code run efficiently**."
   ]
  },
  {
   "cell_type": "code",
   "execution_count": 34,
   "id": "51062b8b",
   "metadata": {},
   "outputs": [],
   "source": [
    "import random\n",
    "import numpy as np\n",
    "import time"
   ]
  },
  {
   "cell_type": "markdown",
   "id": "4f8cecac",
   "metadata": {},
   "source": [
    "The Function **freivald($A$,$B$,$C$,$k$)** Take $4$ values as input, matrices $A$,$B$ and $C$ and a integer $k$ equal to number of iteration you want to reduce error by $2^{-k}$ and return **True** or **False**."
   ]
  },
  {
   "cell_type": "code",
   "execution_count": null,
   "id": "9821d264",
   "metadata": {},
   "outputs": [],
   "source": [
    "#freivald algorithm function \n",
    "#here k is number of iteration you want to increase the probability of getting right answer\n",
    "def freivald(A, B, C,k):\n",
    "    n = len(A)\n",
    "    for i in range(k):\n",
    "        r = [random.randint(0, 1) for _ in range(n)]\n",
    "        Br = np.dot(B,r);\n",
    "        ABr = np.dot(A,Br)\n",
    "        Cr = np.dot(C,r)\n",
    "        if not np.array_equal(ABr, Cr):\n",
    "            return False\n",
    "    return True     \n"
   ]
  },
  {
   "cell_type": "markdown",
   "id": "a4e1bb1e",
   "metadata": {},
   "source": [
    "In the bolow code we can select the size of matrices$ A$ and $B$ by changing value of$n$ in code, then generate $A$ and $B$ using python inbuild functions and compute the result $A$ dot $B$ and store in matrix $C$."
   ]
  },
  {
   "cell_type": "code",
   "execution_count": null,
   "id": "7e0b5bb4",
   "metadata": {},
   "outputs": [],
   "source": [
    "# Test the implementation on larger matrices\n",
    "#select any size you want by change value of n\n",
    "n = 900\n",
    "\n",
    "#create matrices A and B using python functions\n",
    "A = np.random.randint(10, size=(n, n))\n",
    "B = np.random.randint(10, size=(n, n))\n",
    "\n",
    "time1 = time.time() #catch start time of dot product\n",
    "C = A.dot(B)\n",
    "time2 = time.time()  #catch end time of dot product"
   ]
  },
  {
   "cell_type": "markdown",
   "id": "d1c5f15e",
   "metadata": {},
   "source": [
    "Print Matrices $A$,$B$ and $C$:"
   ]
  },
  {
   "cell_type": "code",
   "execution_count": null,
   "id": "7fac3cd6",
   "metadata": {},
   "outputs": [],
   "source": [
    "#Print all three matrices A,B and C\n",
    "print(\"Matrix A :\",A)\n",
    "print(\"Matrix B :\",B)\n",
    "print(\"Matrix C :\",C)"
   ]
  },
  {
   "cell_type": "markdown",
   "id": "0b458b06",
   "metadata": {},
   "source": [
    "We can change value of $k$ for reduce error in result, first we take $k$=1$0$ which reduce our error to $2^{-10}$% approximately equal to $0.1$%."
   ]
  },
  {
   "cell_type": "code",
   "execution_count": null,
   "id": "ff9dce3b",
   "metadata": {},
   "outputs": [],
   "source": [
    "start_time = time.time() #catch the start time of freivald algorithm\n",
    "result = freivald(A, B, C,10)  #store the result of algorithm in result variable \n",
    "end_time = time.time() #catch the start time of freivald algorithm"
   ]
  },
  {
   "cell_type": "markdown",
   "id": "8b864426",
   "metadata": {},
   "source": [
    "**Print the result provided by freivald algorithm** and **time comparision of freivald algorithm** and **dot product** \n",
    "\n",
    "### Time Comparision:\n",
    "When we verify matrix multiplication by **dot product so it takes much time for large matrices compare to freivald algorithm**, because in freivald algorithm we take dot product with $1$-$D$ vector to verify multiplication on the place of given $2$-$D$ size matrices, ehich reduces our time more when we move towards large size $2$-$D$ matrices.\n"
   ]
  },
  {
   "cell_type": "code",
   "execution_count": null,
   "id": "40478e38",
   "metadata": {},
   "outputs": [],
   "source": [
    "print(\"Result:\", result)\n",
    "print(\"Elapsed time in freivald algorithm:\", end_time - start_time, \"seconds\")\n",
    "print(\"Elapsed time in Dot product:\", time2 - time1, \"seconds\")"
   ]
  },
  {
   "cell_type": "markdown",
   "id": "9eb81ed7",
   "metadata": {},
   "source": [
    "### We can check algorithm saves time for large matrices by run the code for diffrent values of n. \n",
    "\n",
    "- **A table with time comparision for diffrent matrices size (n)**:\n",
    "| Size of Matrices ($n*n$) | algorithm time(in s) | dot-product time (in s) |\n",
    "|----------|----------|----------|\n",
    "| $1*1$ | 0.00199| 0.00000  |\n",
    "| $10*10$ | 0.00299 | 0.00000 |\n",
    "|$100*100$ | 0.01309 | 0.000997|\n",
    "|$200*200$ | 0.02745 | 0.00601|\n",
    "|$300*300$ | 0.03801 | 0.03155 |\n",
    "|$400*400$ | 0.04966 | 0.07089|\n",
    "|$500*500$ | 0.06868| 0.19004|\n",
    "|$600*600$ |0.08331 | 0.26261|\n",
    "|$700*700$ | 0.06883 |0.63414 |\n",
    "|$800*800$ | 0.08323 | 1.16856|\n",
    "|$900*900$ | 0.12198 |2.24366 |\n",
    "| $1000*1000$ | 0.15242| 2.88602 |\n"
   ]
  },
  {
   "cell_type": "markdown",
   "id": "8ed941b2",
   "metadata": {},
   "source": [
    "### Plot graph comaring time taken by algorithm and dot product with respect to soe of matrices\n",
    "- **use matplotlib library of python for plot the graph.**\n",
    "- size_n : store size values of matrices\n",
    "- time_algorithm : store time taken by freival algorithm for diffrent matrices size\n",
    "- time_dotproduct : store time taken by dot product for diffrent matrices size"
   ]
  },
  {
   "cell_type": "code",
   "execution_count": null,
   "id": "809ae976",
   "metadata": {},
   "outputs": [],
   "source": [
    "import matplotlib.pyplot as plt\n",
    "\n",
    "# Data\n",
    "size_n = [1, 10, 100, 200, 300,400,500,600,700,800,900,1000]  # size of matrices\n",
    "\n",
    "# time taken by algorithm\n",
    "time_algorithm = [0.00199, 0.00299,  0.01309, 0.02745,  0.03801,0.04966,0.06868,0.08331 ,0.06883, 0.08323,0.12198,0.15242] \n",
    "\n",
    "# time taken by dot product\n",
    "time_dotproduct = [0.00000, 0.00000,  0.000997, 0.00601, 0.03155,0.07089,0.19004,0.26261,0.63414,1.16856,2.24366,2.88602 ]\n",
    "\n",
    "# Plotting the graph\n",
    "plt.plot(size_n, time_algorithm, label='Time taken by algorithm')\n",
    "plt.plot(size_n, time_dotproduct, label='Time taken by dot product')\n",
    "\n",
    "# Adding labels and title\n",
    "plt.xlabel('Size of matrices (n)')\n",
    "plt.ylabel('Time taken (in seconds)')\n",
    "plt.title('Comparison of Time taken by alforithm and dot product on Y-axis with respect to size of matrices on X-axis')\n",
    "\n",
    "# Adding legend\n",
    "plt.legend()\n",
    "\n",
    "# Showing the plot\n",
    "plt.show()\n"
   ]
  },
  {
   "cell_type": "markdown",
   "id": "6f1e0fd4",
   "metadata": {},
   "source": [
    "## Conclusion:\n",
    "- **As we show in graph time taken by algorithm is very less compare to dot product for large matrices so we conclude that algorithm saves time for large matrices**."
   ]
  }
 ],
 "metadata": {
  "kernelspec": {
   "display_name": "Python 3 (ipykernel)",
   "language": "python",
   "name": "python3"
  },
  "language_info": {
   "codemirror_mode": {
    "name": "ipython",
    "version": 3
   },
   "file_extension": ".py",
   "mimetype": "text/x-python",
   "name": "python",
   "nbconvert_exporter": "python",
   "pygments_lexer": "ipython3",
   "version": "3.9.13"
  }
 },
 "nbformat": 4,
 "nbformat_minor": 5
}
